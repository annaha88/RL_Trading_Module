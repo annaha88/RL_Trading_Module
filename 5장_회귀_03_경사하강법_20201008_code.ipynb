{
  "nbformat": 4,
  "nbformat_minor": 0,
  "metadata": {
    "kernelspec": {
      "name": "python3",
      "display_name": "Python 3"
    },
    "colab": {
      "name": "5장. 회귀 03. 경사하강법 - 20201008-code.ipynb",
      "provenance": [],
      "include_colab_link": true
    }
  },
  "cells": [
    {
      "cell_type": "markdown",
      "metadata": {
        "id": "view-in-github",
        "colab_type": "text"
      },
      "source": [
        "<a href=\"https://colab.research.google.com/github/dkssk2140/Test-notebook/blob/master/5%EC%9E%A5_%ED%9A%8C%EA%B7%80_03_%EA%B2%BD%EC%82%AC%ED%95%98%EA%B0%95%EB%B2%95_20201008_code.ipynb\" target=\"_parent\"><img src=\"https://colab.research.google.com/assets/colab-badge.svg\" alt=\"Open In Colab\"/></a>"
      ]
    },
    {
      "cell_type": "markdown",
      "metadata": {
        "id": "GPW8Aiwvk23a"
      },
      "source": [
        "## 1. 경사 하강법"
      ]
    },
    {
      "cell_type": "code",
      "metadata": {
        "id": "jJh24gnVk23b"
      },
      "source": [
        "import numpy as np\n",
        "import pandas as pd\n",
        "import matplotlib.pyplot as plt\n",
        "%matplotlib inline"
      ],
      "execution_count": 2,
      "outputs": []
    },
    {
      "cell_type": "markdown",
      "metadata": {
        "id": "i-t1LTA_k23g"
      },
      "source": [
        "머신러닝 -> 지도 학습 -> 데이터와 답 입력 -> 학습 -> 식 찾기\n",
        "\n",
        "경사하강법의 원리 이해를 위한 예제코드\n",
        "\n",
        "y = 4X + 6 (역으로 식이 주어진 상태에서 데이터와 답 찾기)\n",
        "1. 위 식에 근사한 데이터 생성 -> 2. 답 생성\n",
        "\n",
        "경사하강 사용해서 위 식에 있는 계수를 도출\n",
        "근사 처리하기 위해서 random 사용\n",
        "\n",
        "Numpy Random function : \n",
        "  1. np.random.randint() : 정수 난수 생성(균일 분포를 따르는)\n",
        "  2. np.random.rand()  : 0~1 사이의 실수 난수 생성(균일 분포 따르는)하여 matrix array 반환\n",
        "  3. np.random.randn() : 표준 정규분포를 따르는 난수 생성하여 matrix array 반환\n",
        "  4. np.random.shuffle() : 기존 데이터를 섞어서 순서 바꾸기\n",
        "  5. np.random.choice() : 기존 데이터에서 샘플링"
      ]
    },
    {
      "cell_type": "code",
      "metadata": {
        "id": "gpzDi2cbk23g",
        "outputId": "068cbc3c-791d-4e18-95af-1b8c74e7c7b6"
      },
      "source": [
        "# np.random.randint()\n",
        "np.random.randint(6)   # 0부터 5까지 랜덤한 숫자 1개 반환"
      ],
      "execution_count": null,
      "outputs": [
        {
          "output_type": "execute_result",
          "data": {
            "text/plain": [
              "3"
            ]
          },
          "metadata": {
            "tags": []
          },
          "execution_count": 8
        }
      ]
    },
    {
      "cell_type": "code",
      "metadata": {
        "id": "-2yQfH3jk23l"
      },
      "source": [
        ""
      ],
      "execution_count": null,
      "outputs": []
    },
    {
      "cell_type": "code",
      "metadata": {
        "id": "4LkePZvrk23o",
        "outputId": "d03908f2-23ff-41bd-fd34-338d7b1d4efb"
      },
      "source": [
        "# np.random.randint(start, end)\n",
        "np.random.randint(1, 20)"
      ],
      "execution_count": null,
      "outputs": [
        {
          "output_type": "execute_result",
          "data": {
            "text/plain": [
              "12"
            ]
          },
          "metadata": {
            "tags": []
          },
          "execution_count": 13
        }
      ]
    },
    {
      "cell_type": "code",
      "metadata": {
        "id": "APiask-Hk23r",
        "outputId": "0aa2ed25-5065-421d-fc4d-1104c58d8565"
      },
      "source": [
        "np.random.rand(3,2)  #3행 2열"
      ],
      "execution_count": null,
      "outputs": [
        {
          "output_type": "execute_result",
          "data": {
            "text/plain": [
              "array([[0.41293774, 0.2415316 ],\n",
              "       [0.88670039, 0.08644477],\n",
              "       [0.6308582 , 0.00237427]])"
            ]
          },
          "metadata": {
            "tags": []
          },
          "execution_count": 14
        }
      ]
    },
    {
      "cell_type": "code",
      "metadata": {
        "id": "OPMT2308k23u",
        "outputId": "876a110c-b707-46c7-dd34-bd6005d40d29"
      },
      "source": [
        "# np.random.randn(개수) : 가우시안 표준 정규분포 따르는\n",
        "np.random.randn(3,2)"
      ],
      "execution_count": null,
      "outputs": [
        {
          "output_type": "execute_result",
          "data": {
            "text/plain": [
              "array([[ 1.42499107, -1.95274035],\n",
              "       [-1.06995148,  0.9034592 ],\n",
              "       [ 0.32904536, -0.02942592]])"
            ]
          },
          "metadata": {
            "tags": []
          },
          "execution_count": 16
        }
      ]
    },
    {
      "cell_type": "code",
      "metadata": {
        "id": "cBQd_wByk23x",
        "outputId": "8b562873-1c69-4497-8081-2c7c3cc3d1c9"
      },
      "source": [
        "# y = 4X + 6 (역으로 식이 주어진 상태에서 데이터와 답을 만들기)\n",
        "\n",
        "np.random.seed(0)   # seed 고정\n",
        "# 위 식을 근사한 Random 데이터 생성 : 실데이터를 모사하기 위해 임의로 노이즈를 생성하겠다 -> 랜덤을 이용\n",
        "X = 2* np.random.rand(100,1)     #노이즈를 추가한 100개 행 데이터 생성\n",
        "X[:10]"
      ],
      "execution_count": null,
      "outputs": [
        {
          "output_type": "execute_result",
          "data": {
            "text/plain": [
              "array([[1.09762701],\n",
              "       [1.43037873],\n",
              "       [1.20552675],\n",
              "       [1.08976637],\n",
              "       [0.8473096 ],\n",
              "       [1.29178823],\n",
              "       [0.87517442],\n",
              "       [1.783546  ],\n",
              "       [1.92732552],\n",
              "       [0.76688304]])"
            ]
          },
          "metadata": {
            "tags": []
          },
          "execution_count": 50
        }
      ]
    },
    {
      "cell_type": "code",
      "metadata": {
        "id": "1gOfGeEJk230"
      },
      "source": [
        "# y: 종속변수 => 답 생성\n",
        "# y =4X+6\n",
        "# 위에서 생성한 100개 난수 데이터 X 대입\n",
        "# 생성할 답 y값에 노이즈 추가(노이즈 추가 안하면 해당 식 100% 정확도가 나와버림.말이 안됨)\n",
        "y = 6 + 4*X + np.random.randn(100,1)"
      ],
      "execution_count": null,
      "outputs": []
    },
    {
      "cell_type": "code",
      "metadata": {
        "id": "i5wOyJRPk233",
        "outputId": "25c8eae5-02c6-4dd3-d2af-e2f5f8b5f068"
      },
      "source": [
        "# 만든 데이터 X: input, y:target 시각화\n",
        "plt.scatter(X,y)"
      ],
      "execution_count": null,
      "outputs": [
        {
          "output_type": "execute_result",
          "data": {
            "text/plain": [
              "<matplotlib.collections.PathCollection at 0x23edacefd48>"
            ]
          },
          "metadata": {
            "tags": []
          },
          "execution_count": 52
        },
        {
          "output_type": "display_data",
          "data": {
            "image/png": "[encoded data removed]",
            "text/plain": [
              "<Figure size 432x288 with 1 Axes>"
            ]
          },
          "metadata": {
            "tags": [],
            "needs_background": "light"
          }
        }
      ]
    },
    {
      "cell_type": "code",
      "metadata": {
        "id": "ehK78eLik235"
      },
      "source": [
        "# y = 4X + 6\n",
        "# 오차 : 원래 값 y- 예측값(W0 + W1*X)\n",
        "\n",
        "# 가중치 (W1, W0)를 업데이트 할 w1_update, w0_update 반환 함수 생성\n",
        "def get_weigth_updates(w1,w0, X, y, learning_rate=0.01):\n",
        "    N = len(y)   # y: 원래답의 길이 : 100\n",
        "    # 먼저 반환할 값(w1,w0)을 저장할 배열 선언 (0으로 초기화)\n",
        "    w1_update = np.zeros_like(w1)   # zeroes_like(a) : a와 동일한 구조의 배열 생성후 0으로 초기화해줌\n",
        "    w0_update = np.zeros_like(w0)\n",
        "    \n",
        "    # 예측값(W0 + W1*X) 구하기 :  w1은 전치시킨 후 (w1.T :  Same as self.transpose().) W1*X 행렬 내적곱 dot()\n",
        "    y_pred = w0 + np.dot(X, w1.T)\n",
        "    \n",
        "    # 오차 구하기\n",
        "    diff = y - y_pred\n",
        "    \n",
        "    # w0 update를 행렬 연산하기 위한  1 값으로 초기화된 행렬 생성\n",
        "    w0_fact = np.ones((N,1))\n",
        "    \n",
        "    w1_update = -(2/N)*learning_rate * (np.dot(X.T, diff))   # np.dot(X.T,diff) => 실제값 - 예측값\n",
        "    w0_update = -(2/N)*learning_rate * (np.dot(w0_fact.T, diff))\n",
        "    \n",
        "    return w1_update, w0_update\n",
        "    "
      ],
      "execution_count": null,
      "outputs": []
    },
    {
      "cell_type": "code",
      "metadata": {
        "id": "DPJlG2-nk237"
      },
      "source": [
        "w1 = np.zeros_like(y)"
      ],
      "execution_count": null,
      "outputs": []
    },
    {
      "cell_type": "code",
      "metadata": {
        "id": "vLawKXNVk23-",
        "outputId": "488e700f-502d-40b9-ab7e-69002a1fb326"
      },
      "source": [
        "w1.shape, w1.T.shape"
      ],
      "execution_count": null,
      "outputs": [
        {
          "output_type": "execute_result",
          "data": {
            "text/plain": [
              "((100, 1), (1, 100))"
            ]
          },
          "metadata": {
            "tags": []
          },
          "execution_count": 37
        }
      ]
    },
    {
      "cell_type": "code",
      "metadata": {
        "id": "bR2zXMSUk24A"
      },
      "source": [
        "# 경사 하강 : 오차를 최소화하는 가중치값(w0, w1)를 구하는 것이 목적\n",
        "# parameter : 데이터, 원래답, 반복 횟수\n",
        "def gradient_descent_steps(X, y, iters=10000):\n",
        "    # w0, w1 임의값으로 초기화: 여기서는 0 으로 초기화하기 (zeros)\n",
        "    w0 = np.zeros((1,1))\n",
        "    w1 = np.zeros((1,1))\n",
        "    \n",
        "    for idx in range(iters):\n",
        "        # 이전 가중치 w - 수정된 가중치 (get_weight_update())\n",
        "        w1_upd, w0_upd = get_weigth_updates(w1,w0, X, y, learning_rate=0.01)\n",
        "        w1= w1 - w1_upd\n",
        "        w0= w0 - w0_upd\n",
        "    \n",
        "    return w1,w0\n",
        "\n",
        "# 10000 번 반복한 후 의 최종 가중치를 반환한다."
      ],
      "execution_count": null,
      "outputs": []
    },
    {
      "cell_type": "code",
      "metadata": {
        "id": "WBGM-dx1k24C"
      },
      "source": [
        "# cost function 구하기\n",
        "def get_cost(y, y_pred):\n",
        "    N = len(y)\n",
        "    cost = np.sum(np.square(y-y_pred))/N          # MSE 평균제곱 오차 방법으로 cost fuction 생성\n",
        "    \n",
        "    return cost"
      ],
      "execution_count": null,
      "outputs": []
    },
    {
      "cell_type": "code",
      "metadata": {
        "id": "YZzGhplhk24F"
      },
      "source": [
        "# 위 함수 적용해서 최적화된 w1,w0구하기\n",
        "w1, w0 = gradient_descent_steps(X, y, iters=1000)"
      ],
      "execution_count": null,
      "outputs": []
    },
    {
      "cell_type": "code",
      "metadata": {
        "id": "dAHvBjg-k24K",
        "outputId": "045770cc-fa00-4037-f7cc-b8ffb92b6c47"
      },
      "source": [
        "# w0 : 절편(원래값 : 6), w1 ; 기울기 (원래값: 4)\n",
        "print('w1: {0:.3f}, w0 : {1:.3f}'.format(w1[0,0],w0[0,0]))"
      ],
      "execution_count": null,
      "outputs": [
        {
          "output_type": "stream",
          "text": [
            "w1: 4.022, w0 : 6.162\n"
          ],
          "name": "stdout"
        }
      ]
    },
    {
      "cell_type": "code",
      "metadata": {
        "id": "fi92XmT4k24M",
        "outputId": "9727e76c-e06c-4f59-872e-cccaab68056c"
      },
      "source": [
        "# 최적화로 찾은 가중치(w)를 적용한 식을 통해,\n",
        "# 원래값 - 예측값 : 실제 얼마나 오차가 있는지 확인\n",
        "y_pred= w0[0,0] + w1[0,0]*X\n",
        "# 전체 오차\n",
        "print('Gradient Descent Total Cost : {0:.4f}'.format(get_cost(y,y_pred)))"
      ],
      "execution_count": null,
      "outputs": [
        {
          "output_type": "stream",
          "text": [
            "Gradient Descent Total Cost : 0.9935\n"
          ],
          "name": "stdout"
        }
      ]
    },
    {
      "cell_type": "markdown",
      "metadata": {
        "id": "QdPvfaDuk24P"
      },
      "source": [
        "오차값 자체에서 의미를 찾기는 힘들다\n",
        "\n",
        "시각화해서 확인해보기"
      ]
    },
    {
      "cell_type": "code",
      "metadata": {
        "id": "leXlaV96k24P",
        "outputId": "5ba7e282-119a-4f2f-b551-91472799087b"
      },
      "source": [
        "plt.scatter(X, y)\n",
        "plt.plot(X, y_pred)"
      ],
      "execution_count": null,
      "outputs": [
        {
          "output_type": "execute_result",
          "data": {
            "text/plain": [
              "[<matplotlib.lines.Line2D at 0x23eda0c1cc8>]"
            ]
          },
          "metadata": {
            "tags": []
          },
          "execution_count": 71
        },
        {
          "output_type": "display_data",
          "data": {
            "image/png": "[encoded data removed]",
            "text/plain": [
              "<Figure size 432x288 with 1 Axes>"
            ]
          },
          "metadata": {
            "tags": [],
            "needs_background": "light"
          }
        }
      ]
    },
    {
      "cell_type": "markdown",
      "metadata": {
        "id": "UjMANvk8k24R"
      },
      "source": [
        "위에서 찾은 가중치(w)로 만들어진 회귀선(linear plot) 이 실제 데이터를 잘 따라가고 있음을 확인할 수 있다"
      ]
    }
  ]
}