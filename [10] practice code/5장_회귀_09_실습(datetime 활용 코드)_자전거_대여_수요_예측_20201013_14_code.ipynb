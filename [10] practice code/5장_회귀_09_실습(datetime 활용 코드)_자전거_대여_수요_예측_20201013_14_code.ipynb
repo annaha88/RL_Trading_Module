{
  "nbformat": 4,
  "nbformat_minor": 0,
  "metadata": {
    "kernelspec": {
      "display_name": "ml01-02",
      "language": "python",
      "name": "ml01-02"
    },
    "language_info": {
      "codemirror_mode": {
        "name": "ipython",
        "version": 3
      },
      "file_extension": ".py",
      "mimetype": "text/x-python",
      "name": "python",
      "nbconvert_exporter": "python",
      "pygments_lexer": "ipython3",
      "version": "3.7.7"
    },
    "colab": {
      "name": "5장. 회귀 09.실습 - 자전거 대여 수요 예측 - 20201013-14-code.ipynb",
      "provenance": [],
      "include_colab_link": true
    }
  },
  "cells": [
    {
      "cell_type": "markdown",
      "metadata": {
        "id": "view-in-github",
        "colab_type": "text"
      },
      "source": [
        "<a href=\"https://colab.research.google.com/github/dkssk2140/Test-notebook/blob/master/5%EC%9E%A5_%ED%9A%8C%EA%B7%80_09_%EC%8B%A4%EC%8A%B5(datetime%20%ED%99%9C%EC%9A%A9%20%EC%BD%94%EB%93%9C)_%EC%9E%90%EC%A0%84%EA%B1%B0_%EB%8C%80%EC%97%AC_%EC%88%98%EC%9A%94_%EC%98%88%EC%B8%A1_20201013_14_code.ipynb\" target=\"_parent\"><img src=\"https://colab.research.google.com/assets/colab-badge.svg\" alt=\"Open In Colab\"/></a>"
      ]
    },
    {
      "cell_type": "markdown",
      "metadata": {
        "id": "7rhZjV4wmGNZ"
      },
      "source": [
        "### 캐글 자전거 대여 데이터 예측  p.342~\n",
        "- 데이터 전처리 \n",
        "    - 데이터 클렌징 및 가공\n",
        "    - 로그 변환, 피처 인코딩(숫자로 변환)\n",
        "- 모델 학습/ 예측/ 평가"
      ]
    },
    {
      "cell_type": "code",
      "metadata": {
        "id": "H6eK4mxmmGNa"
      },
      "source": [
        "# 데이터 전처리\n",
        "## 데이터 클렌징 및 가공"
      ],
      "execution_count": null,
      "outputs": []
    },
    {
      "cell_type": "code",
      "metadata": {
        "id": "wLpWXtyKmGNe"
      },
      "source": [
        "import numpy as np\n",
        "import pandas as pd\n",
        "import seaborn as sns\n",
        "import matplotlib.pyplot as plt\n",
        "%matplotlib inline\n",
        "\n",
        "import warnings\n",
        "warnings.filterwarnings('ignore', category=RuntimeWarning)"
      ],
      "execution_count": null,
      "outputs": []
    },
    {
      "cell_type": "code",
      "metadata": {
        "id": "nAveNc_7mGNg",
        "outputId": "60733ae9-a4ee-442f-b637-8fcfc91436e2"
      },
      "source": [
        "# 데이터 로딩 => 데이터프레임으로\n",
        "bike_df = pd.read_csv('./data/bike/train.csv')\n",
        "bike_df.head()"
      ],
      "execution_count": null,
      "outputs": [
        {
          "output_type": "execute_result",
          "data": {
            "text/html": [
              "<div>\n",
              "<style scoped>\n",
              "    .dataframe tbody tr th:only-of-type {\n",
              "        vertical-align: middle;\n",
              "    }\n",
              "\n",
              "    .dataframe tbody tr th {\n",
              "        vertical-align: top;\n",
              "    }\n",
              "\n",
              "    .dataframe thead th {\n",
              "        text-align: right;\n",
              "    }\n",
              "</style>\n",
              "<table border=\"1\" class=\"dataframe\">\n",
              "  <thead>\n",
              "    <tr style=\"text-align: right;\">\n",
              "      <th></th>\n",
              "      <th>datetime</th>\n",
              "      <th>season</th>\n",
              "      <th>holiday</th>\n",
              "      <th>workingday</th>\n",
              "      <th>weather</th>\n",
              "      <th>temp</th>\n",
              "      <th>atemp</th>\n",
              "      <th>humidity</th>\n",
              "      <th>windspeed</th>\n",
              "      <th>casual</th>\n",
              "      <th>registered</th>\n",
              "      <th>count</th>\n",
              "    </tr>\n",
              "  </thead>\n",
              "  <tbody>\n",
              "    <tr>\n",
              "      <th>0</th>\n",
              "      <td>2011-01-01 00:00:00</td>\n",
              "      <td>1</td>\n",
              "      <td>0</td>\n",
              "      <td>0</td>\n",
              "      <td>1</td>\n",
              "      <td>9.84</td>\n",
              "      <td>14.395</td>\n",
              "      <td>81</td>\n",
              "      <td>0.0</td>\n",
              "      <td>3</td>\n",
              "      <td>13</td>\n",
              "      <td>16</td>\n",
              "    </tr>\n",
              "    <tr>\n",
              "      <th>1</th>\n",
              "      <td>2011-01-01 01:00:00</td>\n",
              "      <td>1</td>\n",
              "      <td>0</td>\n",
              "      <td>0</td>\n",
              "      <td>1</td>\n",
              "      <td>9.02</td>\n",
              "      <td>13.635</td>\n",
              "      <td>80</td>\n",
              "      <td>0.0</td>\n",
              "      <td>8</td>\n",
              "      <td>32</td>\n",
              "      <td>40</td>\n",
              "    </tr>\n",
              "    <tr>\n",
              "      <th>2</th>\n",
              "      <td>2011-01-01 02:00:00</td>\n",
              "      <td>1</td>\n",
              "      <td>0</td>\n",
              "      <td>0</td>\n",
              "      <td>1</td>\n",
              "      <td>9.02</td>\n",
              "      <td>13.635</td>\n",
              "      <td>80</td>\n",
              "      <td>0.0</td>\n",
              "      <td>5</td>\n",
              "      <td>27</td>\n",
              "      <td>32</td>\n",
              "    </tr>\n",
              "    <tr>\n",
              "      <th>3</th>\n",
              "      <td>2011-01-01 03:00:00</td>\n",
              "      <td>1</td>\n",
              "      <td>0</td>\n",
              "      <td>0</td>\n",
              "      <td>1</td>\n",
              "      <td>9.84</td>\n",
              "      <td>14.395</td>\n",
              "      <td>75</td>\n",
              "      <td>0.0</td>\n",
              "      <td>3</td>\n",
              "      <td>10</td>\n",
              "      <td>13</td>\n",
              "    </tr>\n",
              "    <tr>\n",
              "      <th>4</th>\n",
              "      <td>2011-01-01 04:00:00</td>\n",
              "      <td>1</td>\n",
              "      <td>0</td>\n",
              "      <td>0</td>\n",
              "      <td>1</td>\n",
              "      <td>9.84</td>\n",
              "      <td>14.395</td>\n",
              "      <td>75</td>\n",
              "      <td>0.0</td>\n",
              "      <td>0</td>\n",
              "      <td>1</td>\n",
              "      <td>1</td>\n",
              "    </tr>\n",
              "  </tbody>\n",
              "</table>\n",
              "</div>"
            ],
            "text/plain": [
              "              datetime  season  holiday  workingday  weather  temp   atemp  \\\n",
              "0  2011-01-01 00:00:00       1        0           0        1  9.84  14.395   \n",
              "1  2011-01-01 01:00:00       1        0           0        1  9.02  13.635   \n",
              "2  2011-01-01 02:00:00       1        0           0        1  9.02  13.635   \n",
              "3  2011-01-01 03:00:00       1        0           0        1  9.84  14.395   \n",
              "4  2011-01-01 04:00:00       1        0           0        1  9.84  14.395   \n",
              "\n",
              "   humidity  windspeed  casual  registered  count  \n",
              "0        81        0.0       3          13     16  \n",
              "1        80        0.0       8          32     40  \n",
              "2        80        0.0       5          27     32  \n",
              "3        75        0.0       3          10     13  \n",
              "4        75        0.0       0           1      1  "
            ]
          },
          "metadata": {
            "tags": []
          },
          "execution_count": 2
        }
      ]
    },
    {
      "cell_type": "code",
      "metadata": {
        "id": "rw89Fe8gmGNk",
        "outputId": "0a169306-5c89-4111-a8ff-82cb1206f6e3"
      },
      "source": [
        "bike_df.shape"
      ],
      "execution_count": null,
      "outputs": [
        {
          "output_type": "execute_result",
          "data": {
            "text/plain": [
              "(10886, 12)"
            ]
          },
          "metadata": {
            "tags": []
          },
          "execution_count": 3
        }
      ]
    },
    {
      "cell_type": "code",
      "metadata": {
        "id": "NyXzhjUrmGNm",
        "outputId": "989ec3b6-0765-4f9e-c729-b321ad845b74"
      },
      "source": [
        "bike_df.info()"
      ],
      "execution_count": null,
      "outputs": [
        {
          "output_type": "stream",
          "text": [
            "<class 'pandas.core.frame.DataFrame'>\n",
            "RangeIndex: 10886 entries, 0 to 10885\n",
            "Data columns (total 12 columns):\n",
            " #   Column      Non-Null Count  Dtype  \n",
            "---  ------      --------------  -----  \n",
            " 0   datetime    10886 non-null  object \n",
            " 1   season      10886 non-null  int64  \n",
            " 2   holiday     10886 non-null  int64  \n",
            " 3   workingday  10886 non-null  int64  \n",
            " 4   weather     10886 non-null  int64  \n",
            " 5   temp        10886 non-null  float64\n",
            " 6   atemp       10886 non-null  float64\n",
            " 7   humidity    10886 non-null  int64  \n",
            " 8   windspeed   10886 non-null  float64\n",
            " 9   casual      10886 non-null  int64  \n",
            " 10  registered  10886 non-null  int64  \n",
            " 11  count       10886 non-null  int64  \n",
            "dtypes: float64(3), int64(8), object(1)\n",
            "memory usage: 1020.7+ KB\n"
          ],
          "name": "stdout"
        }
      ]
    },
    {
      "cell_type": "code",
      "metadata": {
        "id": "hOGWjk-kmGNp"
      },
      "source": [
        "# datetime column 데이터 타입 변경\n",
        "# object => datatime   : to_datetimme function 사용 (datetime 함수의 기능을 사용할 수 있다.)\n",
        "# 문자열 가공: 문자열 함수 사용\n",
        "# datetime : 함수 사용 가능\n",
        "\n",
        "bike_df['datetime'] = bike_df.datetime.apply(pd.to_datetime)"
      ],
      "execution_count": null,
      "outputs": []
    },
    {
      "cell_type": "code",
      "metadata": {
        "id": "lIQnJyVJmGNr",
        "outputId": "96f1000e-ed44-4e65-cdec-07faecfa71c4"
      },
      "source": [
        "bike_df.info()"
      ],
      "execution_count": null,
      "outputs": [
        {
          "output_type": "stream",
          "text": [
            "<class 'pandas.core.frame.DataFrame'>\n",
            "RangeIndex: 10886 entries, 0 to 10885\n",
            "Data columns (total 12 columns):\n",
            " #   Column      Non-Null Count  Dtype         \n",
            "---  ------      --------------  -----         \n",
            " 0   datetime    10886 non-null  datetime64[ns]\n",
            " 1   season      10886 non-null  int64         \n",
            " 2   holiday     10886 non-null  int64         \n",
            " 3   workingday  10886 non-null  int64         \n",
            " 4   weather     10886 non-null  int64         \n",
            " 5   temp        10886 non-null  float64       \n",
            " 6   atemp       10886 non-null  float64       \n",
            " 7   humidity    10886 non-null  int64         \n",
            " 8   windspeed   10886 non-null  float64       \n",
            " 9   casual      10886 non-null  int64         \n",
            " 10  registered  10886 non-null  int64         \n",
            " 11  count       10886 non-null  int64         \n",
            "dtypes: datetime64[ns](1), float64(3), int64(8)\n",
            "memory usage: 1020.7 KB\n"
          ],
          "name": "stdout"
        }
      ]
    },
    {
      "cell_type": "code",
      "metadata": {
        "id": "AP96uhYsmGNu"
      },
      "source": [
        "# 년, 월, 일, 시간 추출 => 새로운 컬럼 생성\n",
        "bike_df['year'] = bike_df.datetime.apply(lambda x: x.year)\n",
        "bike_df['month']= bike_df.datetime.apply(lambda x: x.month)\n",
        "bike_df['day']= bike_df.datetime.apply(lambda x: x.day)\n",
        "bike_df['hour']= bike_df.datetime.apply(lambda x: x.hour)"
      ],
      "execution_count": null,
      "outputs": []
    },
    {
      "cell_type": "code",
      "metadata": {
        "id": "7bezGtRemGNx",
        "outputId": "9701c042-13a9-4c07-83d5-882f9a8649c9"
      },
      "source": [
        "type(bike_df.datetime[0])"
      ],
      "execution_count": null,
      "outputs": [
        {
          "output_type": "execute_result",
          "data": {
            "text/plain": [
              "pandas._libs.tslibs.timestamps.Timestamp"
            ]
          },
          "metadata": {
            "tags": []
          },
          "execution_count": 8
        }
      ]
    },
    {
      "cell_type": "code",
      "metadata": {
        "id": "7iW7SrBbmGNz"
      },
      "source": [
        "# 필요없는 컬럼 삭제 (클렌징):drop : datetime, casual(사전에 등록되지 않은 사용자가 대여한 횟수), registered(등록된 사용자 대여횟수)\n",
        "drop_columns = ['datetime', 'casual', 'registered']\n",
        "bike_df.drop(drop_columns, axis=1, inplace=True)"
      ],
      "execution_count": null,
      "outputs": []
    },
    {
      "cell_type": "code",
      "metadata": {
        "id": "FE8b0bfNmGN1",
        "outputId": "b0276cbd-63a9-48bf-c608-aa5d6252c431"
      },
      "source": [
        "bike_df.info()"
      ],
      "execution_count": null,
      "outputs": [
        {
          "output_type": "stream",
          "text": [
            "<class 'pandas.core.frame.DataFrame'>\n",
            "RangeIndex: 10886 entries, 0 to 10885\n",
            "Data columns (total 13 columns):\n",
            " #   Column      Non-Null Count  Dtype  \n",
            "---  ------      --------------  -----  \n",
            " 0   season      10886 non-null  int64  \n",
            " 1   holiday     10886 non-null  int64  \n",
            " 2   workingday  10886 non-null  int64  \n",
            " 3   weather     10886 non-null  int64  \n",
            " 4   temp        10886 non-null  float64\n",
            " 5   atemp       10886 non-null  float64\n",
            " 6   humidity    10886 non-null  int64  \n",
            " 7   windspeed   10886 non-null  float64\n",
            " 8   count       10886 non-null  int64  \n",
            " 9   year        10886 non-null  int64  \n",
            " 10  month       10886 non-null  int64  \n",
            " 11  day         10886 non-null  int64  \n",
            " 12  hour        10886 non-null  int64  \n",
            "dtypes: float64(3), int64(10)\n",
            "memory usage: 1.1 MB\n"
          ],
          "name": "stdout"
        }
      ]
    },
    {
      "cell_type": "markdown",
      "metadata": {
        "id": "P62p16uKmGN3"
      },
      "source": [
        "### 데이터 전처리\n",
        "- 로그 변환, 피처 인코딩"
      ]
    },
    {
      "cell_type": "code",
      "metadata": {
        "id": "EqHdl2zPmGN4"
      },
      "source": [
        "# 데이터(X_data), 답(y_target) 분리\n",
        "y_target = bike_df['count']\n",
        "X_data = bike_df.drop(['count'], axis=1, inplace=False)"
      ],
      "execution_count": null,
      "outputs": []
    },
    {
      "cell_type": "code",
      "metadata": {
        "id": "WjSF0p01mGN6"
      },
      "source": [
        "# 학습 데이터/ 테스트 데이터 분리\n",
        "from sklearn.model_selection import train_test_split\n",
        "\n",
        "X_train, X_test, y_train, y_test= train_test_split(\n",
        "    X_data, y_target, test_size = 0.3, random_state=0\n",
        ")"
      ],
      "execution_count": null,
      "outputs": []
    },
    {
      "cell_type": "code",
      "metadata": {
        "id": "7WQMII7imGN9",
        "outputId": "8598bd37-27aa-47b7-de0f-5265fac45099"
      },
      "source": [
        "# 답 분포 확인 \n",
        "y_train.hist()   # 데이터 프레임에서는 바로 histogram 을 볼수 있는 function hist()가 있다."
      ],
      "execution_count": null,
      "outputs": [
        {
          "output_type": "execute_result",
          "data": {
            "text/plain": [
              "<matplotlib.axes._subplots.AxesSubplot at 0x273e0d15f88>"
            ]
          },
          "metadata": {
            "tags": []
          },
          "execution_count": 12
        },
        {
          "output_type": "display_data",
          "data": {
            "image/png": "[encoded data removed]",
            "text/plain": [
              "<Figure size 432x288 with 1 Axes>"
            ]
          },
          "metadata": {
            "tags": [],
            "needs_background": "light"
          }
        }
      ]
    },
    {
      "cell_type": "markdown",
      "metadata": {
        "id": "YjfjAHsVmGN_"
      },
      "source": [
        "레이블의 값들이 한쪽으로 쏠려있어서, 알고리즘 입장에서 학습이 어렵다 -> 정규분포로 변환해주기"
      ]
    },
    {
      "cell_type": "code",
      "metadata": {
        "id": "Huvr32PZmGN_",
        "outputId": "b78dc019-5880-4113-b4e8-1a466d223bad"
      },
      "source": [
        "# 데이터 불균형이 심한 데이터셋에서는 로그변환이 효과적이다.\n",
        "y_log_transform = np.log1p(y_train)\n",
        "y_log_transform.hist()"
      ],
      "execution_count": null,
      "outputs": [
        {
          "output_type": "execute_result",
          "data": {
            "text/plain": [
              "<matplotlib.axes._subplots.AxesSubplot at 0x273e14b0388>"
            ]
          },
          "metadata": {
            "tags": []
          },
          "execution_count": 13
        },
        {
          "output_type": "display_data",
          "data": {
            "image/png": "[encoded data removed]",
            "text/plain": [
              "<Figure size 432x288 with 1 Axes>"
            ]
          },
          "metadata": {
            "tags": [],
            "needs_background": "light"
          }
        }
      ]
    },
    {
      "cell_type": "markdown",
      "metadata": {
        "id": "V-U_6yY8mGOC"
      },
      "source": [
        "### 본 캐글에서 요구한 성능평가 방법 : RMSLE\n",
        "- Root Mean Squared Logarithmic Error (RMSLE) "
      ]
    },
    {
      "cell_type": "markdown",
      "metadata": {
        "id": "-2uP0gFrmGOC"
      },
      "source": [
        "$\\sqrt{\\frac{1}{n} \\sum_{i=1}^n (\\log(p_i + 1) - \\log(a_i+1))^2 }$"
      ]
    },
    {
      "cell_type": "code",
      "metadata": {
        "id": "HlzNjqHBmGOD"
      },
      "source": [
        "# log 값 변환시 Nan 등의 이슈로 log() -> log1p()사용\n",
        "# 사이킷런에서 RMSLE 지원 안하므로 따로 function 만들어주기\n",
        "# root(log(원래값)- log(예측값))**2\n",
        "\n",
        "def rmsle(y, pred):  # 원래값:y, 예측값:pred 로 파라미터 지정\n",
        "    log_y = np.log1p(y)\n",
        "    log_pred = np.log1p(pred)\n",
        "    squared_error = (log_y-log_pred)**2\n",
        "    rmsle = np.sqrt(np.mean(squared_error))\n",
        "    return rmsle"
      ],
      "execution_count": null,
      "outputs": []
    },
    {
      "cell_type": "code",
      "metadata": {
        "id": "NbTv5J3hmGOF"
      },
      "source": [
        "# RMSE 함수 만들기\n",
        "def rmse(y, pred):\n",
        "#     squared_error = (y-pred)**2\n",
        "#     rmse = np.sqrt(np.mean(squared_error))\n",
        "    rmse= np.sqrt(mean_squared_error(y,pred))\n",
        "    return rmse\n",
        "\n",
        "# 위코드를 대신하는 사이킷런의 메소드가 있다.\n",
        "from sklearn.metrics import mean_squared_error"
      ],
      "execution_count": null,
      "outputs": []
    },
    {
      "cell_type": "code",
      "metadata": {
        "id": "YeDtx2pmmGOH"
      },
      "source": [
        "# MAE\n",
        "from sklearn.metrics import mean_absolute_error\n",
        "\n",
        "# 오차함수 값들 RMSE, MAE, RMSLE 모두 계산 / 출력하는 함수 생성하기\n",
        "def eval_regr(y, pred):\n",
        "    rmsle_val = rmsle(y, pred) # RMSLE\n",
        "    rmse_val = rmse(y, pred)  # RMSE\n",
        "    mae_val = mean_absolute_error(y, pred)  # MAE\n",
        "    \n",
        "    out_str = 'RMSLE :{0:.3f}, RMSE : {1:.3f}, MAE:{2:.3f}'\n",
        "    print(out_str.format(rmsle_val, rmse_val, mae_val))"
      ],
      "execution_count": null,
      "outputs": []
    },
    {
      "cell_type": "markdown",
      "metadata": {
        "id": "2XabSNpcmGOJ"
      },
      "source": [
        "위에서 만든 함수들 이용해서 실습에 적용하기"
      ]
    },
    {
      "cell_type": "code",
      "metadata": {
        "id": "mOigstcimGOK"
      },
      "source": [
        "from sklearn.model_selection import train_test_split\n",
        "from sklearn.model_selection import GridSearchCV\n",
        "\n",
        "from sklearn.linear_model import LinearRegression\n",
        "from sklearn.linear_model import Ridge\n",
        "from sklearn.linear_model import Lasso"
      ],
      "execution_count": null,
      "outputs": []
    },
    {
      "cell_type": "code",
      "metadata": {
        "id": "9qHQY9GWmGOM",
        "outputId": "55d68f30-b194-4735-e44b-b124557a1b37"
      },
      "source": [
        "# 데이터 답 분리\n",
        "y_target = bike_df['count'] # label\n",
        "X_features = bike_df.drop('count', axis=1, inplace=False)  # data\n",
        "\n",
        "# 학습데이터, 테스트 데이터 분리\n",
        "X_train, X_test, y_train, y_test = train_test_split(\n",
        "    X_features, y_target, test_size=0.3, random_state = 0\n",
        ")\n",
        "\n",
        "# 학습 후 예측값 출력\n",
        "# 선형회귀 모델 생성\n",
        "lr_reg = LinearRegression()\n",
        "lr_reg.fit(X_train,y_train)\n",
        "pred = lr_reg.predict(X_test)\n",
        "eval_regr(y_test, pred)"
      ],
      "execution_count": null,
      "outputs": [
        {
          "output_type": "stream",
          "text": [
            "RMSLE :1.165, RMSE : 140.900, MAE:105.924\n"
          ],
          "name": "stdout"
        }
      ]
    },
    {
      "cell_type": "markdown",
      "metadata": {
        "id": "77ZYcA1imGOP"
      },
      "source": [
        "위의 오차 수준들이 타겟값 스케일에 비하여 너무 크다. -> 개선필요\n",
        "- 접근 1. 타겟값 정규화 하기(log 변환)"
      ]
    },
    {
      "cell_type": "code",
      "metadata": {
        "id": "PkumHKlNmGOP"
      },
      "source": [
        "# 오차값(원래값-예측값)이 큰 5개 데이터 출력\n",
        "def get_top_error_data(y_test, pred, n_tops=5):   # 출력할 상위 데이터 개수 디폴트 5 처리\n",
        "    # 원래값, 예측값을 데이터 프레임으로 생성\n",
        "    result_df = pd.DataFrame(y_test.values, columns=['real_count'])\n",
        "    result_df['predicted_count'] =  np.round(pred)\n",
        "    result_df['diff'] = np.abs(result_df['real_count'] - result_df['predicted_count'])\n",
        "    result_df_sort = result_df.sort_values(by='diff', ascending=False)\n",
        "    return result_df_sort[:n_tops]"
      ],
      "execution_count": null,
      "outputs": []
    },
    {
      "cell_type": "code",
      "metadata": {
        "id": "175cFxVDmGOR",
        "outputId": "af558132-7f96-4c85-8a21-82ec654d3ae3"
      },
      "source": [
        "get_top_error_data(y_test, pred)"
      ],
      "execution_count": null,
      "outputs": [
        {
          "output_type": "execute_result",
          "data": {
            "text/html": [
              "<div>\n",
              "<style scoped>\n",
              "    .dataframe tbody tr th:only-of-type {\n",
              "        vertical-align: middle;\n",
              "    }\n",
              "\n",
              "    .dataframe tbody tr th {\n",
              "        vertical-align: top;\n",
              "    }\n",
              "\n",
              "    .dataframe thead th {\n",
              "        text-align: right;\n",
              "    }\n",
              "</style>\n",
              "<table border=\"1\" class=\"dataframe\">\n",
              "  <thead>\n",
              "    <tr style=\"text-align: right;\">\n",
              "      <th></th>\n",
              "      <th>real_count</th>\n",
              "      <th>predicted_count</th>\n",
              "      <th>diff</th>\n",
              "    </tr>\n",
              "  </thead>\n",
              "  <tbody>\n",
              "    <tr>\n",
              "      <th>1618</th>\n",
              "      <td>890</td>\n",
              "      <td>322.0</td>\n",
              "      <td>568.0</td>\n",
              "    </tr>\n",
              "    <tr>\n",
              "      <th>3151</th>\n",
              "      <td>798</td>\n",
              "      <td>241.0</td>\n",
              "      <td>557.0</td>\n",
              "    </tr>\n",
              "    <tr>\n",
              "      <th>966</th>\n",
              "      <td>884</td>\n",
              "      <td>327.0</td>\n",
              "      <td>557.0</td>\n",
              "    </tr>\n",
              "    <tr>\n",
              "      <th>412</th>\n",
              "      <td>745</td>\n",
              "      <td>194.0</td>\n",
              "      <td>551.0</td>\n",
              "    </tr>\n",
              "    <tr>\n",
              "      <th>2817</th>\n",
              "      <td>856</td>\n",
              "      <td>310.0</td>\n",
              "      <td>546.0</td>\n",
              "    </tr>\n",
              "  </tbody>\n",
              "</table>\n",
              "</div>"
            ],
            "text/plain": [
              "      real_count  predicted_count   diff\n",
              "1618         890            322.0  568.0\n",
              "3151         798            241.0  557.0\n",
              "966          884            327.0  557.0\n",
              "412          745            194.0  551.0\n",
              "2817         856            310.0  546.0"
            ]
          },
          "metadata": {
            "tags": []
          },
          "execution_count": 48
        }
      ]
    },
    {
      "cell_type": "code",
      "metadata": {
        "id": "f6mc2Z_9mGOT",
        "outputId": "0419842a-14a7-4d2f-c1a8-d21af8a8284b"
      },
      "source": [
        "# 타겟 컬럼인 count 값을 log1p()로 변환-> 정규분포에 가깝도록\n",
        "y_target_log=np.log1p(y_target)\n",
        "# 변환된 값으로 학습/테스트 데이터 분리\n",
        "X_train,X_test, y_train,y_test = train_test_split(\n",
        "X_features, y_target_log, test_size=0.3,random_state=0)\n",
        "\n",
        "lr_reg=LinearRegression()\n",
        "lr_reg.fit(X_train,y_train)\n",
        "pred = lr_reg.predict(X_test)  # 로그처리가 되어있는 예측값 \n",
        "# 오차값을 원래 스케일로 돌리기\n",
        "# 1. pred, 2.y_test\n",
        "y_test_exp = np.expm1(y_test)\n",
        "pred_exp = np.expm1(pred)\n",
        "\n",
        "eval_regr(y_test_exp, pred_exp)\n"
      ],
      "execution_count": null,
      "outputs": [
        {
          "output_type": "stream",
          "text": [
            "RMSLE :1.017, RMSE : 162.594, MAE:109.286\n"
          ],
          "name": "stdout"
        }
      ]
    },
    {
      "cell_type": "markdown",
      "metadata": {
        "id": "ExV3-3sImGOW"
      },
      "source": [
        "- 로그 변환을 이용해 정규분포에 가까운 타겟값을 이용해 모델을 생성했음, RMSLE는 개선됨 .\n",
        "- 그러나,RMSE, MAE 오차값은 더 안좋아졌고, 그 오차 수준이 너무 크다.-> 모델에 여전히 문제가 있으니 개선 필요\n",
        "\n",
        "- 접근2. 데이터 인코딩(원핫인코딩)"
      ]
    },
    {
      "cell_type": "code",
      "metadata": {
        "id": "0WG-GxG4mGOW",
        "outputId": "21bb8151-ea73-49ee-c662-a4f660f113ee"
      },
      "source": [
        "# One-Hot : 범주형 데이터 값을 => 0, 1로 변환\n",
        "# pd.get_dummies()이용\n",
        "# 데이터가 숫자로 되어있어 그 결과값을 왜곡영향을 줄수 있는 데이터들을 원핫인코딩하기:\n",
        "## 'year', 'month', 'hour', 'season', 'weather', 'holiday', 'workingday'\n",
        "X_feature_ohe = pd.get_dummies(\n",
        "      X_features   # 전체 데이터 프레임\n",
        "    , columns=['year', 'month', 'hour', 'season', 'weather', 'holiday', 'workingday']\n",
        ")\n",
        "X_feature_ohe.head()"
      ],
      "execution_count": null,
      "outputs": [
        {
          "output_type": "execute_result",
          "data": {
            "text/html": [
              "<div>\n",
              "<style scoped>\n",
              "    .dataframe tbody tr th:only-of-type {\n",
              "        vertical-align: middle;\n",
              "    }\n",
              "\n",
              "    .dataframe tbody tr th {\n",
              "        vertical-align: top;\n",
              "    }\n",
              "\n",
              "    .dataframe thead th {\n",
              "        text-align: right;\n",
              "    }\n",
              "</style>\n",
              "<table border=\"1\" class=\"dataframe\">\n",
              "  <thead>\n",
              "    <tr style=\"text-align: right;\">\n",
              "      <th></th>\n",
              "      <th>temp</th>\n",
              "      <th>atemp</th>\n",
              "      <th>humidity</th>\n",
              "      <th>windspeed</th>\n",
              "      <th>day</th>\n",
              "      <th>year_2011</th>\n",
              "      <th>year_2012</th>\n",
              "      <th>month_1</th>\n",
              "      <th>month_2</th>\n",
              "      <th>month_3</th>\n",
              "      <th>...</th>\n",
              "      <th>season_3</th>\n",
              "      <th>season_4</th>\n",
              "      <th>weather_1</th>\n",
              "      <th>weather_2</th>\n",
              "      <th>weather_3</th>\n",
              "      <th>weather_4</th>\n",
              "      <th>holiday_0</th>\n",
              "      <th>holiday_1</th>\n",
              "      <th>workingday_0</th>\n",
              "      <th>workingday_1</th>\n",
              "    </tr>\n",
              "  </thead>\n",
              "  <tbody>\n",
              "    <tr>\n",
              "      <th>0</th>\n",
              "      <td>9.84</td>\n",
              "      <td>14.395</td>\n",
              "      <td>81</td>\n",
              "      <td>0.0</td>\n",
              "      <td>1</td>\n",
              "      <td>1</td>\n",
              "      <td>0</td>\n",
              "      <td>1</td>\n",
              "      <td>0</td>\n",
              "      <td>0</td>\n",
              "      <td>...</td>\n",
              "      <td>0</td>\n",
              "      <td>0</td>\n",
              "      <td>1</td>\n",
              "      <td>0</td>\n",
              "      <td>0</td>\n",
              "      <td>0</td>\n",
              "      <td>1</td>\n",
              "      <td>0</td>\n",
              "      <td>1</td>\n",
              "      <td>0</td>\n",
              "    </tr>\n",
              "    <tr>\n",
              "      <th>1</th>\n",
              "      <td>9.02</td>\n",
              "      <td>13.635</td>\n",
              "      <td>80</td>\n",
              "      <td>0.0</td>\n",
              "      <td>1</td>\n",
              "      <td>1</td>\n",
              "      <td>0</td>\n",
              "      <td>1</td>\n",
              "      <td>0</td>\n",
              "      <td>0</td>\n",
              "      <td>...</td>\n",
              "      <td>0</td>\n",
              "      <td>0</td>\n",
              "      <td>1</td>\n",
              "      <td>0</td>\n",
              "      <td>0</td>\n",
              "      <td>0</td>\n",
              "      <td>1</td>\n",
              "      <td>0</td>\n",
              "      <td>1</td>\n",
              "      <td>0</td>\n",
              "    </tr>\n",
              "    <tr>\n",
              "      <th>2</th>\n",
              "      <td>9.02</td>\n",
              "      <td>13.635</td>\n",
              "      <td>80</td>\n",
              "      <td>0.0</td>\n",
              "      <td>1</td>\n",
              "      <td>1</td>\n",
              "      <td>0</td>\n",
              "      <td>1</td>\n",
              "      <td>0</td>\n",
              "      <td>0</td>\n",
              "      <td>...</td>\n",
              "      <td>0</td>\n",
              "      <td>0</td>\n",
              "      <td>1</td>\n",
              "      <td>0</td>\n",
              "      <td>0</td>\n",
              "      <td>0</td>\n",
              "      <td>1</td>\n",
              "      <td>0</td>\n",
              "      <td>1</td>\n",
              "      <td>0</td>\n",
              "    </tr>\n",
              "    <tr>\n",
              "      <th>3</th>\n",
              "      <td>9.84</td>\n",
              "      <td>14.395</td>\n",
              "      <td>75</td>\n",
              "      <td>0.0</td>\n",
              "      <td>1</td>\n",
              "      <td>1</td>\n",
              "      <td>0</td>\n",
              "      <td>1</td>\n",
              "      <td>0</td>\n",
              "      <td>0</td>\n",
              "      <td>...</td>\n",
              "      <td>0</td>\n",
              "      <td>0</td>\n",
              "      <td>1</td>\n",
              "      <td>0</td>\n",
              "      <td>0</td>\n",
              "      <td>0</td>\n",
              "      <td>1</td>\n",
              "      <td>0</td>\n",
              "      <td>1</td>\n",
              "      <td>0</td>\n",
              "    </tr>\n",
              "    <tr>\n",
              "      <th>4</th>\n",
              "      <td>9.84</td>\n",
              "      <td>14.395</td>\n",
              "      <td>75</td>\n",
              "      <td>0.0</td>\n",
              "      <td>1</td>\n",
              "      <td>1</td>\n",
              "      <td>0</td>\n",
              "      <td>1</td>\n",
              "      <td>0</td>\n",
              "      <td>0</td>\n",
              "      <td>...</td>\n",
              "      <td>0</td>\n",
              "      <td>0</td>\n",
              "      <td>1</td>\n",
              "      <td>0</td>\n",
              "      <td>0</td>\n",
              "      <td>0</td>\n",
              "      <td>1</td>\n",
              "      <td>0</td>\n",
              "      <td>1</td>\n",
              "      <td>0</td>\n",
              "    </tr>\n",
              "  </tbody>\n",
              "</table>\n",
              "<p>5 rows × 55 columns</p>\n",
              "</div>"
            ],
            "text/plain": [
              "   temp   atemp  humidity  windspeed  day  year_2011  year_2012  month_1  \\\n",
              "0  9.84  14.395        81        0.0    1          1          0        1   \n",
              "1  9.02  13.635        80        0.0    1          1          0        1   \n",
              "2  9.02  13.635        80        0.0    1          1          0        1   \n",
              "3  9.84  14.395        75        0.0    1          1          0        1   \n",
              "4  9.84  14.395        75        0.0    1          1          0        1   \n",
              "\n",
              "   month_2  month_3  ...  season_3  season_4  weather_1  weather_2  weather_3  \\\n",
              "0        0        0  ...         0         0          1          0          0   \n",
              "1        0        0  ...         0         0          1          0          0   \n",
              "2        0        0  ...         0         0          1          0          0   \n",
              "3        0        0  ...         0         0          1          0          0   \n",
              "4        0        0  ...         0         0          1          0          0   \n",
              "\n",
              "   weather_4  holiday_0  holiday_1  workingday_0  workingday_1  \n",
              "0          0          1          0             1             0  \n",
              "1          0          1          0             1             0  \n",
              "2          0          1          0             1             0  \n",
              "3          0          1          0             1             0  \n",
              "4          0          1          0             1             0  \n",
              "\n",
              "[5 rows x 55 columns]"
            ]
          },
          "metadata": {
            "tags": []
          },
          "execution_count": 51
        }
      ]
    },
    {
      "cell_type": "code",
      "metadata": {
        "collapsed": true,
        "id": "IM0-FImnmGOd",
        "outputId": "0c0aa946-20cd-4797-9150-a73460d9be57"
      },
      "source": [
        "X_feature_ohe.info()"
      ],
      "execution_count": null,
      "outputs": [
        {
          "output_type": "stream",
          "text": [
            "<class 'pandas.core.frame.DataFrame'>\n",
            "RangeIndex: 10886 entries, 0 to 10885\n",
            "Data columns (total 55 columns):\n",
            " #   Column        Non-Null Count  Dtype  \n",
            "---  ------        --------------  -----  \n",
            " 0   temp          10886 non-null  float64\n",
            " 1   atemp         10886 non-null  float64\n",
            " 2   humidity      10886 non-null  int64  \n",
            " 3   windspeed     10886 non-null  float64\n",
            " 4   day           10886 non-null  int64  \n",
            " 5   year_2011     10886 non-null  uint8  \n",
            " 6   year_2012     10886 non-null  uint8  \n",
            " 7   month_1       10886 non-null  uint8  \n",
            " 8   month_2       10886 non-null  uint8  \n",
            " 9   month_3       10886 non-null  uint8  \n",
            " 10  month_4       10886 non-null  uint8  \n",
            " 11  month_5       10886 non-null  uint8  \n",
            " 12  month_6       10886 non-null  uint8  \n",
            " 13  month_7       10886 non-null  uint8  \n",
            " 14  month_8       10886 non-null  uint8  \n",
            " 15  month_9       10886 non-null  uint8  \n",
            " 16  month_10      10886 non-null  uint8  \n",
            " 17  month_11      10886 non-null  uint8  \n",
            " 18  month_12      10886 non-null  uint8  \n",
            " 19  hour_0        10886 non-null  uint8  \n",
            " 20  hour_1        10886 non-null  uint8  \n",
            " 21  hour_2        10886 non-null  uint8  \n",
            " 22  hour_3        10886 non-null  uint8  \n",
            " 23  hour_4        10886 non-null  uint8  \n",
            " 24  hour_5        10886 non-null  uint8  \n",
            " 25  hour_6        10886 non-null  uint8  \n",
            " 26  hour_7        10886 non-null  uint8  \n",
            " 27  hour_8        10886 non-null  uint8  \n",
            " 28  hour_9        10886 non-null  uint8  \n",
            " 29  hour_10       10886 non-null  uint8  \n",
            " 30  hour_11       10886 non-null  uint8  \n",
            " 31  hour_12       10886 non-null  uint8  \n",
            " 32  hour_13       10886 non-null  uint8  \n",
            " 33  hour_14       10886 non-null  uint8  \n",
            " 34  hour_15       10886 non-null  uint8  \n",
            " 35  hour_16       10886 non-null  uint8  \n",
            " 36  hour_17       10886 non-null  uint8  \n",
            " 37  hour_18       10886 non-null  uint8  \n",
            " 38  hour_19       10886 non-null  uint8  \n",
            " 39  hour_20       10886 non-null  uint8  \n",
            " 40  hour_21       10886 non-null  uint8  \n",
            " 41  hour_22       10886 non-null  uint8  \n",
            " 42  hour_23       10886 non-null  uint8  \n",
            " 43  season_1      10886 non-null  uint8  \n",
            " 44  season_2      10886 non-null  uint8  \n",
            " 45  season_3      10886 non-null  uint8  \n",
            " 46  season_4      10886 non-null  uint8  \n",
            " 47  weather_1     10886 non-null  uint8  \n",
            " 48  weather_2     10886 non-null  uint8  \n",
            " 49  weather_3     10886 non-null  uint8  \n",
            " 50  weather_4     10886 non-null  uint8  \n",
            " 51  holiday_0     10886 non-null  uint8  \n",
            " 52  holiday_1     10886 non-null  uint8  \n",
            " 53  workingday_0  10886 non-null  uint8  \n",
            " 54  workingday_1  10886 non-null  uint8  \n",
            "dtypes: float64(3), int64(2), uint8(50)\n",
            "memory usage: 956.9 KB\n"
          ],
          "name": "stdout"
        }
      ]
    },
    {
      "cell_type": "code",
      "metadata": {
        "id": "RircdkTtmGOf"
      },
      "source": [
        "import pandas as pd"
      ],
      "execution_count": null,
      "outputs": []
    },
    {
      "cell_type": "code",
      "metadata": {
        "id": "VOg9aBLVmGOh"
      },
      "source": [
        "pd.get_dummies?"
      ],
      "execution_count": null,
      "outputs": []
    },
    {
      "cell_type": "markdown",
      "metadata": {
        "id": "viaWqgmDmGOj"
      },
      "source": [
        "- 원핫 인코딩이 되어서 컬럼 수가 55개로 늘어났다."
      ]
    },
    {
      "cell_type": "code",
      "metadata": {
        "id": "rA0xtFCGmGOj",
        "outputId": "938318f4-9bf2-48df-8fe1-39c5eb68944c"
      },
      "source": [
        "# 원핫인코딩 된 데이터로 다시 학습하기\n",
        "\n",
        "# 데이터 분리\n",
        "X_train, X_test, y_train, y_test= train_test_split(\n",
        "    X_feature_ohe, y_target_log, test_size=0.3, random_state=0\n",
        ")\n",
        "\n",
        "# 선형회귀 모델 생성/학습/성능평가\n",
        "lr_reg = LinearRegression()\n",
        "lr_reg.fit(X_train, y_train)\n",
        "pred = lr_reg.predict(X_test)\n",
        "y_test_exp = np.expm1(y_test)\n",
        "pred_exp = np.expm1(pred)\n",
        "eval_regr(y_test_exp,pred_exp )"
      ],
      "execution_count": null,
      "outputs": [
        {
          "output_type": "stream",
          "text": [
            "RMSLE :0.589, RMSE : 97.483, MAE:63.106\n"
          ],
          "name": "stdout"
        }
      ]
    },
    {
      "cell_type": "markdown",
      "metadata": {
        "id": "QAJqtL8YmGOl"
      },
      "source": [
        "오차가 많이 줄었지만, 여전히 높다. 다른 알고리즘 적용해보기"
      ]
    },
    {
      "cell_type": "code",
      "metadata": {
        "id": "ARvx5vyvmGOm"
      },
      "source": [
        "# 여러개 알고리즘 적용 (Linear Regression, Ridge, Lasso) 함수\n",
        "# 오차값 pred 반환 : eval_regr()\n",
        "def get_model_predict(model, X_train, X_test, y_train, y_test,is_expm1=False): #로그처리 => 원래 값으로 돌린다.     \n",
        "    # 학습 / 예측값\n",
        "    model.fit(X_train, y_train)\n",
        "    pred = model.predict(X_test)\n",
        "    \n",
        "    if is_expm1 :\n",
        "        y_test = np.expm1(y_test)\n",
        "        pred= np.expm1(pred)\n",
        "    print('###', model.__class__.__name__,'###')\n",
        "    eval_regr(y_test, pred)"
      ],
      "execution_count": null,
      "outputs": []
    },
    {
      "cell_type": "code",
      "metadata": {
        "id": "FYyDe-QlmGOo",
        "outputId": "4dc4afd0-e6d7-4ba0-8b35-44fc00c980b3"
      },
      "source": [
        "# model 별로 평가 수행\n",
        "lr_reg= LinearRegression()\n",
        "ridge_reg= Ridge(alpha=10)\n",
        "rasso_reg = Lasso(alpha=0.01)\n",
        "\n",
        "for model in [lr_reg, ridge_reg, rasso_reg]:\n",
        "    get_model_predict(model, X_train, X_test, y_train, y_test,is_expm1=True)"
      ],
      "execution_count": null,
      "outputs": [
        {
          "output_type": "stream",
          "text": [
            "### LinearRegression ###\n",
            "RMSLE :0.589, RMSE : 97.483, MAE:63.106\n",
            "### Ridge ###\n",
            "RMSLE :0.589, RMSE : 98.407, MAE:63.648\n",
            "### Lasso ###\n",
            "RMSLE :0.634, RMSE : 113.031, MAE:72.658\n"
          ],
          "name": "stdout"
        }
      ]
    },
    {
      "cell_type": "markdown",
      "metadata": {
        "id": "To2VH1UPmGOq"
      },
      "source": [
        "여전히 오차가 높다"
      ]
    },
    {
      "cell_type": "code",
      "metadata": {
        "id": "HeK_jClkmGOr",
        "outputId": "216de12e-6ca3-437b-ba19-525687076a97"
      },
      "source": [
        "# 계수값 확인\n",
        "coef = pd.Series(lr_reg.coef_, index= X_feature_ohe.columns)\n",
        "coef_sort = coef.sort_values(ascending=False)[:20]\n",
        "sns.barplot(coef_sort.values, coef_sort.index)\n",
        "\n",
        "import warnings\n",
        "warnings.filterwarnings('ignore')"
      ],
      "execution_count": null,
      "outputs": [
        {
          "output_type": "display_data",
          "data": {
            "image/png": "[encoded data removed]",
            "text/plain": [
              "<Figure size 432x288 with 1 Axes>"
            ]
          },
          "metadata": {
            "tags": [],
            "needs_background": "light"
          }
        }
      ]
    },
    {
      "cell_type": "markdown",
      "metadata": {
        "id": "r6NZHaHcmGOt"
      },
      "source": [
        "월별 인자가 가장 영향이 크고, 그다음에 날씨, 그다음에 휴일여부"
      ]
    },
    {
      "cell_type": "code",
      "metadata": {
        "id": "NWFOhRV9mGOt"
      },
      "source": [
        "# 앙상블 회귀 트리 사용\n",
        "from sklearn.ensemble import RandomForestRegressor\n",
        "from sklearn.ensemble import GradientBoostingRegressor\n",
        "\n",
        "from xgboost import XGBRegressor   # 사이킷런 래퍼클래스\n",
        "from lightgbm import LGBMRegressor"
      ],
      "execution_count": null,
      "outputs": []
    },
    {
      "cell_type": "code",
      "metadata": {
        "id": "EISOWQpZmGOv",
        "outputId": "4c4adfc3-0be4-49ab-fd62-7aa5c3ec1147"
      },
      "source": [
        "rf_reg = RandomForestRegressor(n_estimators=500)\n",
        "gbm_reg = GradientBoostingRegressor(n_estimators=500)\n",
        "xgb_reg = XGBRegressor(n_estimators=500)\n",
        "lgbm_reg = LGBMRegressor(n_estimators=500)\n",
        "\n",
        "for model in [rf_reg, gbm_reg, xgb_reg, lgbm_reg]:\n",
        "    get_model_predict(model,X_train, X_test, y_train, y_test,is_expm1=True)"
      ],
      "execution_count": null,
      "outputs": [
        {
          "output_type": "stream",
          "text": [
            "### RandomForestRegressor ###\n",
            "RMSLE :0.353, RMSE : 50.707, MAE:31.403\n",
            "### GradientBoostingRegressor ###\n",
            "RMSLE :0.340, RMSE : 55.736, MAE:34.315\n",
            "[12:31:24] WARNING: src/objective/regression_obj.cu:152: reg:linear is now deprecated in favor of reg:squarederror.\n",
            "### XGBRegressor ###\n",
            "RMSLE :0.346, RMSE : 56.474, MAE:34.917\n",
            "### LGBMRegressor ###\n",
            "RMSLE :0.316, RMSE : 46.473, MAE:28.777\n"
          ],
          "name": "stdout"
        }
      ]
    },
    {
      "cell_type": "markdown",
      "metadata": {
        "id": "dgi7TuommGOx"
      },
      "source": [
        "LGBM 모델이 가장 오차가 적음을 확인할수있다"
      ]
    },
    {
      "cell_type": "markdown",
      "metadata": {
        "id": "Dn1rRJmcmGOx"
      },
      "source": [
        "### 캐글 데이터셋의 test 데이터를 사용해 count 예측하기\n",
        "- 여기의 test 데이터는 count컬럼, 즉 답이 없다.\n",
        "- 캐글에 제출하면 점수를 알수 있다."
      ]
    },
    {
      "cell_type": "code",
      "metadata": {
        "id": "oe4p-o2BmGOy"
      },
      "source": [
        "test_file = pd.read_csv('./data/bike/test.csv')"
      ],
      "execution_count": null,
      "outputs": []
    },
    {
      "cell_type": "code",
      "metadata": {
        "id": "IqoFFkpqmGO1",
        "outputId": "81967999-846e-4c5a-da7e-3e0fa1c94974"
      },
      "source": [
        "test_file.info()"
      ],
      "execution_count": null,
      "outputs": [
        {
          "output_type": "stream",
          "text": [
            "<class 'pandas.core.frame.DataFrame'>\n",
            "RangeIndex: 6493 entries, 0 to 6492\n",
            "Data columns (total 9 columns):\n",
            " #   Column      Non-Null Count  Dtype  \n",
            "---  ------      --------------  -----  \n",
            " 0   datetime    6493 non-null   object \n",
            " 1   season      6493 non-null   int64  \n",
            " 2   holiday     6493 non-null   int64  \n",
            " 3   workingday  6493 non-null   int64  \n",
            " 4   weather     6493 non-null   int64  \n",
            " 5   temp        6493 non-null   float64\n",
            " 6   atemp       6493 non-null   float64\n",
            " 7   humidity    6493 non-null   int64  \n",
            " 8   windspeed   6493 non-null   float64\n",
            "dtypes: float64(3), int64(5), object(1)\n",
            "memory usage: 456.7+ KB\n"
          ],
          "name": "stdout"
        }
      ]
    },
    {
      "cell_type": "code",
      "metadata": {
        "id": "nzqFX84DmGO3"
      },
      "source": [
        "test_df = pd.read_csv('./data/bike/test.csv')\n",
        "\n",
        "test_df['datetime'] = bike_df.datetime.apply(pd.to_datetime)\n",
        "\n",
        "test_df['year'] = bike_df.datetime.apply(lambda x: x.year)\n",
        "test_df['month']= bike_df.datetime.apply(lambda x: x.month)\n",
        "test_df['day']= bike_df.datetime.apply(lambda x: x.day)\n",
        "test_df['hour']= bike_df.datetime.apply(lambda x: x.hour)\n",
        "\n",
        "drop_columns = ['datetime']\n",
        "test_df.drop(drop_columns, axis=1, inplace=True)"
      ],
      "execution_count": null,
      "outputs": []
    }
  ]
}
